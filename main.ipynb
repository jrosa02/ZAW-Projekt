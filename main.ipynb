{
 "cells": [
  {
   "cell_type": "markdown",
   "id": "33a80064",
   "metadata": {},
   "source": [
    "# Event-based Lunar OPtical flow Egomotion estimation (ELOPE)\n",
    "## Data Preparation\n",
    "### Data Download"
   ]
  },
  {
   "cell_type": "code",
   "execution_count": 1,
   "id": "48f7ca63",
   "metadata": {},
   "outputs": [],
   "source": [
    "import os\n",
    "import subprocess\n",
    "import shutil\n",
    "import numpy as np\n",
    "import matplotlib.pyplot as plt\n",
    "from collections import namedtuple\n",
    "import cv2\n",
    "import zipfile\n",
    "\n",
    "from dataVisualization import LanderData"
   ]
  },
  {
   "cell_type": "code",
   "execution_count": null,
   "id": "ebf1e645",
   "metadata": {},
   "outputs": [],
   "source": [
    "zip_dataset_paths = [\"files-archive\", \"elope_dataset.zip\"]\n",
    "dataset_path = \"data/\"\n",
    "\n",
    "# Check if 'files-archive' exists\n",
    "if not os.path.isfile(zip_dataset_paths[0]):\n",
    "    subprocess.run([\"zenodo_get\", \"15421707\"], check=True)\n",
    "\n",
    "# Check if 'elope_dataset.zip' exists\n",
    "if not os.path.isfile(zip_dataset_paths[1]) and not os.listdir(dataset_path):\n",
    "    if os.name == \"posix\":  # Linux\n",
    "        subprocess.run([\"unzip\", zip_dataset_paths[0]], check=True)\n",
    "    elif os.name == \"nt\":  # Windows\n",
    "        extract_dir = os.path.dirname(zip_dataset_paths[0]) or \".\"\n",
    "        # Rozpakuj ZIP\n",
    "        with zipfile.ZipFile(zip_dataset_paths[0], 'r') as zip_ref:\n",
    "            zip_ref.extractall(extract_dir)\n",
    "\n",
    "os.makedirs(dataset_path, exist_ok=True)\n",
    "\n",
    "if os.path.isfile(zip_dataset_paths[1]):\n",
    "    shutil.move(zip_dataset_paths[1], os.path.join(dataset_path, zip_dataset_paths[1]))\n",
    "\n",
    "# If 'elope_dataset.zip' exists, unzip it\n",
    "if os.path.isfile(os.path.join(dataset_path, zip_dataset_paths[1])):\n",
    "    if os.name == \"posix\":  # Linux\n",
    "        subprocess.run([\"unzip\", os.path.join(dataset_path, zip_dataset_paths[1]), \"-d\", dataset_path], check=True)\n",
    "    elif os.name == \"nt\":  # Windows\n",
    "        zip_path = os.path.join(dataset_path, zip_dataset_paths[1])\n",
    "        with zipfile.ZipFile(zip_path, 'r') as zip_ref:\n",
    "            zip_ref.extractall(dataset_path)\n",
    "try:\n",
    "    os.remove(os.path.join(dataset_path, zip_dataset_paths[1]))\n",
    "except FileNotFoundError:\n",
    "    print(zip_dataset_paths[1] + \": already deleted\")\n",
    "\n",
    "train_path = os.path.join(dataset_path, \"train\")\n",
    "test_path = os.path.join(dataset_path, \"test\")"
   ]
  },
  {
   "cell_type": "code",
   "execution_count": null,
   "id": "99f25e0d",
   "metadata": {},
   "outputs": [
    {
     "name": "stdout",
     "output_type": "stream",
     "text": [
      "Loaded LanderData from: data/train/0003.npz\n",
      "Signal events: 444263, Noise events: 6191542\n",
      "Timestamps: 120 entries\n",
      "Trajectory: 120 entries\n",
      "Rangemeter: 477 entries\n",
      "\n",
      "Displayed 190 event frames.\n"
     ]
    }
   ],
   "source": [
    "landerData = LanderData(\"data/train/0003.npz\",\n",
    "                        filter_data=True, filter_t=1/100, filter_k=1, filter_size=5)\n",
    "landerData.summary()\n",
    "# landerData.plot_rangemeter()\n",
    "# landerData.plot_trajectory()\n",
    "landerData.display_event_frames(tau=0.25, wait=100)"
   ]
  }
 ],
 "metadata": {
  "kernelspec": {
   "display_name": "Python 3",
   "language": "python",
   "name": "python3"
  },
  "language_info": {
   "codemirror_mode": {
    "name": "ipython",
    "version": 3
   },
   "file_extension": ".py",
   "mimetype": "text/x-python",
   "name": "python",
   "nbconvert_exporter": "python",
   "pygments_lexer": "ipython3",
   "version": "3.11.3"
  }
 },
 "nbformat": 4,
 "nbformat_minor": 5
}
