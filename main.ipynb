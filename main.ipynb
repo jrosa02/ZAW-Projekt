{
 "cells": [
  {
   "cell_type": "markdown",
   "id": "33a80064",
   "metadata": {},
   "source": [
    "# Event-based Lunar OPtical flow Egomotion estimation (ELOPE)\n",
    "## Data Preparation\n",
    "### Data Download"
   ]
  },
  {
   "cell_type": "code",
   "execution_count": 74,
   "id": "48f7ca63",
   "metadata": {},
   "outputs": [],
   "source": [
    "import os\n",
    "import subprocess\n",
    "import shutil\n",
    "import numpy as np\n",
    "import matplotlib.pyplot as plt\n",
    "from collections import namedtuple\n",
    "import cv2\n",
    "\n",
    "from dataVisualization import LanderData"
   ]
  },
  {
   "cell_type": "code",
   "execution_count": 75,
   "id": "ebf1e645",
   "metadata": {},
   "outputs": [
    {
     "name": "stdout",
     "output_type": "stream",
     "text": [
      "elope_dataset.zip: already deleted\n"
     ]
    }
   ],
   "source": [
    "zip_dataset_paths = [\"files-archive\", \"elope_dataset.zip\"]\n",
    "dataset_path = \"data/\"\n",
    "\n",
    "# Check if 'files-archive' exists\n",
    "if not os.path.isfile(zip_dataset_paths[0]):\n",
    "    subprocess.run([\"zenodo_get\", \"15421707\"], check=True)\n",
    "\n",
    "# Check if 'elope_dataset.zip' exists\n",
    "if not os.path.isfile(zip_dataset_paths[1]) and not os.listdir(dataset_path):\n",
    "    subprocess.run([\"unzip\", zip_dataset_paths[0]], check=True)\n",
    "\n",
    "os.makedirs(dataset_path, exist_ok=True)\n",
    "\n",
    "if os.path.isfile(zip_dataset_paths[1]):\n",
    "    shutil.move(zip_dataset_paths[1], os.path.join(dataset_path, zip_dataset_paths[1]))\n",
    "\n",
    "# If 'elope_dataset.zip' exists, unzip it\n",
    "if os.path.isfile(os.path.join(dataset_path, zip_dataset_paths[1])):\n",
    "    subprocess.run([\"unzip\", os.path.join(dataset_path, zip_dataset_paths[1]), \"-d\", dataset_path], check=True)\n",
    "\n",
    "try:\n",
    "    os.remove(os.path.join(dataset_path, zip_dataset_paths[1]))\n",
    "except FileNotFoundError:\n",
    "    print(zip_dataset_paths[1] + \": already deleted\")\n",
    "\n",
    "train_path = os.path.join(dataset_path, \"train\")\n",
    "test_path = os.path.join(dataset_path, \"test\")"
   ]
  },
  {
   "cell_type": "code",
   "execution_count": null,
   "id": "99f25e0d",
   "metadata": {},
   "outputs": [
    {
     "name": "stdout",
     "output_type": "stream",
     "text": [
      "User exited with 'q'.\n",
      "\n",
      "Displayed 50 event frames.\n"
     ]
    }
   ],
   "source": [
    "landerData = LanderData(\"data/train/0003.npz\")\n",
    "# landerData.summary()\n",
    "# landerData.plot_rangemeter()\n",
    "# landerData.plot_trajectory()\n",
    "landerData.display_event_frames(tau=0.5)"
   ]
  }
 ],
 "metadata": {
  "kernelspec": {
   "display_name": ".venv",
   "language": "python",
   "name": "python3"
  },
  "language_info": {
   "codemirror_mode": {
    "name": "ipython",
    "version": 3
   },
   "file_extension": ".py",
   "mimetype": "text/x-python",
   "name": "python",
   "nbconvert_exporter": "python",
   "pygments_lexer": "ipython3",
   "version": "3.12.3"
  }
 },
 "nbformat": 4,
 "nbformat_minor": 5
}
